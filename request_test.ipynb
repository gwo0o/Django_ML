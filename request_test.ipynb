{
 "cells": [
  {
   "attachments": {},
   "cell_type": "markdown",
   "metadata": {},
   "source": [
    "<h1>API 사용 예제</h1>"
   ]
  },
  {
   "attachments": {},
   "cell_type": "markdown",
   "metadata": {},
   "source": [
    "<h3>사용할 예제</h3>"
   ]
  },
  {
   "cell_type": "code",
   "execution_count": 1,
   "metadata": {},
   "outputs": [],
   "source": [
    "title = '박지성 “유소년 성적, 프로축구 성공 보장 못 해”'\n",
    "article = \"\"\"회견에서 “유소년 대회에서 아무리 좋은 성적을 거둔다고 한들 (그 트로피가) 프로 무대 성공을 보장하는 것은 전혀 아니다”라고 지적했다.\n",
    "유·청소년팀이 트로피를 휩쓴다고 해서 구성원들이 프로축구선수가 될 확률이 높아지는 것이 아니라는 얘기다.\n",
    "박지성 어드바이저는 “성적과 상관없이 가능한 많은 선수가 1군의 부름을 받을 수 있도록 하고, 나아가 K리그에서 가장 많은 프로선수를 배출하는 전북 유스가 되도록 하겠다”라는 포부를 밝혔다.\n",
    "박지성 어드바이저는 전북 1군 운영에는 관여하지 않는다고 재차 선을 그으면서 유소년 육성계획 수립, 경기 외적인 구단 정체성 확립·강화 등을 주 업무로 꼽았다.\n",
    "“유럽프로축구의 선진적인 유소년 육성 시스템·방식을 도입하겠다”고 다짐한 박지성 어드바이저는 “물론 현실과 이상의 차이는 있다.\n",
    "현실 안에서 얼마나 좋은 것들을 가져와서 한국만의 방식으로 변화시킬 수 있느냐가 과제”라고 덧붙였다.\n",
    "박지성 어드바이저는 현역 시절 맨체스터 유나이티드(잉글랜드), PSV 에인트호벤(네덜란드) 같은 명문 클럽에서 활약했다.\n",
    "“유럽 유명 구단들은 내 생각 이상으로 유소년 축구를 중요하게 생각했다.\n",
    "한국도 바뀌려면 예산이 많이 필요하다”라면서 프로축구단 행정을 처음 경험하는 팀으로 전북을 선택한 이유로 K리그에서 자본 규모가 가장 크다는 것을 꼽았다.\"\"\""
   ]
  },
  {
   "attachments": {},
   "cell_type": "markdown",
   "metadata": {},
   "source": [
    "<h3>카테고리 추출 예제</h3>"
   ]
  },
  {
   "cell_type": "code",
   "execution_count": 8,
   "metadata": {},
   "outputs": [
    {
     "data": {
      "text/plain": [
       "'{\"words\": \"[\\'문재인\\', \\'이명박\\', \\'박근혜\\', \\'노무현\\', \\'나자르바예프\\']\"}'"
      ]
     },
     "execution_count": 8,
     "metadata": {},
     "output_type": "execute_result"
    }
   ],
   "source": [
    "import requests\n",
    "\n",
    "# title과 article 필요\n",
    "params = {'title': title, 'article':article}\n",
    "\n",
    "res = requests.get('http://127.0.0.1:8000/category/get/', params=params)\n",
    "res.text"
   ]
  },
  {
   "attachments": {},
   "cell_type": "markdown",
   "metadata": {},
   "source": [
    "<h3>키워드 추출 예제</h3>"
   ]
  },
  {
   "cell_type": "code",
   "execution_count": 3,
   "metadata": {},
   "outputs": [
    {
     "data": {
      "text/plain": [
       "'{\"keywords\": [\"어드\", \"박지성\", \"유소\", \"바이\", \"프로\", \"전북\", \"프로축구\", \"트로피\", \"구단\", \"꼽았다\"], \"len\": 10}'"
      ]
     },
     "execution_count": 3,
     "metadata": {},
     "output_type": "execute_result"
    }
   ],
   "source": [
    "# article만 필요\n",
    "params = {'article':article}\n",
    "\n",
    "res = requests.get('http://127.0.0.1:8000/keywords/get/', params=params)\n",
    "res.text"
   ]
  },
  {
   "attachments": {},
   "cell_type": "markdown",
   "metadata": {},
   "source": [
    "<h3>유사도 높은 n개 단어</h3>"
   ]
  },
  {
   "cell_type": "code",
   "execution_count": null,
   "metadata": {},
   "outputs": [],
   "source": [
    "\n",
    "# 단어와 비교할 개수(선택)필요\n",
    "params = {'word': '윤석열', 'top_n': 5}\n",
    "\n",
    "res = requests.get('http://127.0.0.1:8000/simwords/get/', params=params)\n",
    "res.text"
   ]
  }
 ],
 "metadata": {
  "kernelspec": {
   "display_name": ".310venv",
   "language": "python",
   "name": "python3"
  },
  "language_info": {
   "codemirror_mode": {
    "name": "ipython",
    "version": 3
   },
   "file_extension": ".py",
   "mimetype": "text/x-python",
   "name": "python",
   "nbconvert_exporter": "python",
   "pygments_lexer": "ipython3",
   "version": "3.10.9"
  },
  "orig_nbformat": 4,
  "vscode": {
   "interpreter": {
    "hash": "481ed833d358b5027cbf906dda6b2879adfdff9de3e89b661c5e78a44f150ce3"
   }
  }
 },
 "nbformat": 4,
 "nbformat_minor": 2
}
